{
 "cells": [
  {
   "cell_type": "markdown",
   "id": "18a048ae-210a-423e-8a09-5613399859fc",
   "metadata": {},
   "source": [
    "## Data Visualisation"
   ]
  },
  {
   "cell_type": "code",
   "execution_count": 71,
   "id": "4177c9c6-207f-4a13-8081-476ab76d68ff",
   "metadata": {},
   "outputs": [],
   "source": [
    "import numpy as np\n",
    "import pandas as pd\n",
    "import matplotlib.pyplot as plt\n",
    "import statsmodels.api as sm"
   ]
  },
  {
   "cell_type": "code",
   "execution_count": 132,
   "id": "25ba7ada-afa2-439e-9b99-2398fc1a10f4",
   "metadata": {},
   "outputs": [],
   "source": [
    "def get_data():\n",
    "    df = pd.read_excel('Football_Players.xls').reset_index(drop=True)\n",
    "    df = df.set_index('Year').T\n",
    "\n",
    "    target_col = ['World rating']\n",
    "    cols = []\n",
    "    for i in range(2, len(df.columns) - 1):\n",
    "        ij = df.columns[i]\n",
    "        if (str(ij) == 'nan'):\n",
    "            continue\n",
    "        if df[ij][2016] != None:\n",
    "            cols.append(df.columns[i])\n",
    "    X, y = df[cols].values, df[target_col].values\n",
    "    return X, y.flatten()"
   ]
  },
  {
   "cell_type": "code",
   "execution_count": 133,
   "id": "074c1add-89bf-4bae-b882-a6e46205d510",
   "metadata": {},
   "outputs": [],
   "source": [
    "X, y = get_data()\n",
    "\n",
    "X_learn = X[:70]\n",
    "y_learn = y[:70]\n",
    "\n",
    "X_test = X[70:]\n",
    "y_test = y[70:]"
   ]
  },
  {
   "cell_type": "code",
   "execution_count": 77,
   "id": "8523e42d-bc00-4ae9-a5c5-8eaed430f002",
   "metadata": {},
   "outputs": [
    {
     "data": {
      "image/png": "[encoded data removed]",
      "text/plain": [
       "<Figure size 480x480 with 1 Axes>"
      ]
     },
     "metadata": {},
     "output_type": "display_data"
    }
   ],
   "source": [
    "image = np.zeros((len(y), len(y)))\n",
    "for i in range(len(y)):\n",
    "    for j in range(len(y)):\n",
    "        if (y[i] >= y[j]):\n",
    "            image[i, j] = 1\n",
    "        else:\n",
    "            image[i, j] = 0\n",
    "plt.matshow(image)\n",
    "\n",
    "plt.show()"
   ]
  },
  {
   "cell_type": "markdown",
   "id": "22cb0c29-0e83-433f-81fd-10aff3c48fef",
   "metadata": {},
   "source": [
    "## Partial Orders"
   ]
  },
  {
   "cell_type": "code",
   "execution_count": 79,
   "id": "5eac80f5-a6b5-4e92-bad1-2aeaa99908a7",
   "metadata": {},
   "outputs": [],
   "source": [
    "def glm_fit(X, target):\n",
    "    model = sm.GLM(target, X, family=sm.families.Binomial())\n",
    "    result = model.fit(method_kwargs={'warn_convergence': False})\n",
    "    return result\n",
    "\n",
    "def learnPartialOrders(X, y):\n",
    "    labels = np.unique(y)\n",
    "    num_rows, num_cols = X.shape[0], X.shape[1]\n",
    "    partialOrderMat = np.zeros([num_rows ** 2, num_cols])\n",
    "    \n",
    "    for i in range(num_cols):\n",
    "        curVec = X[:, i]\n",
    "        firstMat = np.tile(curVec[:, np.newaxis], (1, len(curVec)))\n",
    "        secondMat = np.tile(curVec[np.newaxis, :], (len(curVec), 1))\n",
    "        current_mat = np.greater_equal(firstMat, secondMat).astype(float)\n",
    "        \n",
    "        zero_idx = np.where(curVec == 0)[0]\n",
    "        current_mat[zero_idx, :] = 0\n",
    "        current_mat[:, zero_idx] = 0\n",
    "        \n",
    "        partialOrderMat[:, i] = current_mat.flatten()\n",
    "\n",
    "    firstMat = np.tile(y[:, np.newaxis], (1, len(y)))\n",
    "    secondMat = np.tile(y[np.newaxis, :], (len(y), 1))\n",
    "    yMat = np.greater_equal(firstMat, secondMat).astype(float)\n",
    "    y_vec = np.reshape(yMat, [yMat.shape[0] ** 2, 1])\n",
    "    \n",
    "    model = sm.GLM(y_vec, partialOrderMat, family=sm.families.Binomial())\n",
    "    result = model.fit()\n",
    "    w0 = result.params\n",
    "\n",
    "    y_est = result.predict(partialOrderMat)\n",
    "    y_mat_est = np.reshape(y_est, [len(y), len(y)])\n",
    "    \n",
    "    y_mat_est_conv = np.zeros((y_mat_est.shape[0], len(labels)))\n",
    "    for class_idx in range(len(labels)):\n",
    "        y_mat_est_conv[:, class_idx] = np.sum(y_mat_est[:, y == labels[class_idx]], axis=1)\n",
    "    \n",
    "    par_w = np.zeros([y_mat_est_conv.shape[1], len(labels) - 1])\n",
    "    for class_idx in range(len(labels) - 1):\n",
    "        y_curr = (y > labels[class_idx]).astype(float)\n",
    "        par_w[:, class_idx] = glm_fit(y_mat_est_conv, y_curr).params\n",
    "\n",
    "    y_est = testPartialOrders(X, y, X, w0, par_w)\n",
    "    return w0, par_w, y_est"
   ]
  },
  {
   "cell_type": "code",
   "execution_count": 80,
   "id": "8931ca83-6cc0-43dd-9d20-5b456026d3b0",
   "metadata": {},
   "outputs": [],
   "source": [
    "def testPartialOrders(X_learn, y_learn, X_test, w0, par_w):\n",
    "    labels = np.array([1, 2, 3, 4, 5])\n",
    "\n",
    "    y_fit = np.zeros((X_test.shape[0], len(labels) - 1))\n",
    "    y_est = np.ones(X_test.shape[0])\n",
    "\n",
    "    for idx_test in range(X_test.shape[0]):\n",
    "        x_test_obj = X_test[idx_test]\n",
    "        x_test_obj_mat = np.tile(x_test_obj, (X_learn.shape[0], 1))\n",
    "        \n",
    "        # Создание матрицы частичного порядка\n",
    "        partial_order_mat = (x_test_obj_mat >= X_learn).astype(float)\n",
    "        partial_order_mat[X_learn == 0] = 0\n",
    "        #partial_order_mat[x_test_obj_mat == 0] = 0\n",
    "        \n",
    "        # Прогнозирование с помощью glmval\n",
    "        y_est0 = sm.families.Binomial().link.inverse(w0.dot(partial_order_mat.T))\n",
    "        \n",
    "        y_vec_conv = np.zeros(len(labels))\n",
    "        \n",
    "        for cl_idx in range(len(labels)):\n",
    "            y_vec_conv[cl_idx] = np.sum(y_est0[y_learn == labels[cl_idx]])\n",
    "        \n",
    "        for cl_idx in range(len(labels) - 1):\n",
    "            y_fit[idx_test, cl_idx] = sm.families.Binomial().link.inverse(par_w[:, cl_idx].dot(y_vec_conv))\n",
    "    \n",
    "    # Преобразование y_fit\n",
    "    y_fit = np.column_stack((1 - y_fit[:, 0], \n",
    "                              y_fit[:, 1:] - np.roll(y_fit[:, 1:], shift=1, axis=1),\n",
    "                              y_fit[:, -1]))\n",
    "    \n",
    "    y_est = np.argmax(y_fit, axis=1)\n",
    "    return y_est + 1"
   ]
  },
  {
   "cell_type": "code",
   "execution_count": 81,
   "id": "b6713c40-7151-44d3-90d3-cca2f013e686",
   "metadata": {},
   "outputs": [
    {
     "name": "stderr",
     "output_type": "stream",
     "text": [
      "C:\\ProgramData\\anaconda3\\Lib\\site-packages\\statsmodels\\genmod\\families\\links.py:198: RuntimeWarning: overflow encountered in exp\n",
      "  t = np.exp(-z)\n"
     ]
    },
    {
     "name": "stdout",
     "output_type": "stream",
     "text": [
      "Validation MAE: 1.1428571428571428\n",
      "Test MAE      : 1.6956521739130435\n"
     ]
    }
   ],
   "source": [
    "X, y = get_data()\n",
    "\n",
    "X_learn = X[:70]\n",
    "y_learn = y[:70]\n",
    "\n",
    "X_test = X[70:]\n",
    "y_test = y[70:]\n",
    "\n",
    "w0, w, res = learnPartialOrders(X_learn, y_learn)\n",
    "mae_val = np.mean(np.abs(y_learn - res))\n",
    "\n",
    "res = testPartialOrders(X_learn, y_learn, X_test, w0, w)\n",
    "mae_test = np.mean(np.abs(y_test - res))\n",
    "\n",
    "print('Validation MAE:', mae_val)\n",
    "print('Test MAE      :', mae_test)"
   ]
  },
  {
   "cell_type": "code",
   "execution_count": 83,
   "id": "483a7d48-f183-46c2-bc38-4a2ad3d5c838",
   "metadata": {},
   "outputs": [
    {
     "data": {
      "image/png": "[encoded data removed]",
      "text/plain": [
       "<Figure size 480x480 with 1 Axes>"
      ]
     },
     "metadata": {},
     "output_type": "display_data"
    }
   ],
   "source": [
    "res = testPartialOrders(X_learn, y_learn, X, w0, w)\n",
    "image = np.zeros((len(y), len(y)))\n",
    "for i in range(len(y)):\n",
    "    for j in range(len(y)):\n",
    "        if (res[i] >= res[j]):\n",
    "            image[i, j] = 1\n",
    "        else:\n",
    "            image[i, j] = 0\n",
    "plt.matshow(image)\n",
    "\n",
    "plt.show()"
   ]
  },
  {
   "cell_type": "markdown",
   "id": "c1fccb71-0b40-4f21-bba6-9f33eeb593a5",
   "metadata": {},
   "source": [
    "## Isotonic regression"
   ]
  },
  {
   "cell_type": "code",
   "execution_count": 84,
   "id": "db84d0ac-4d14-43c3-98dd-82c6cd2c0be2",
   "metadata": {},
   "outputs": [],
   "source": [
    "from sklearn.isotonic import IsotonicRegression"
   ]
  },
  {
   "cell_type": "code",
   "execution_count": 85,
   "id": "89b175ec-5913-4625-be58-02aa6d640908",
   "metadata": {},
   "outputs": [
    {
     "name": "stdout",
     "output_type": "stream",
     "text": [
      "Validation MAE: 0.9857142857142858\n",
      "Test MAE      : 1.2826086956521738\n"
     ]
    }
   ],
   "source": [
    "clf = IsotonicRegression(y_min=1.0, y_max=5.0, out_of_bounds='clip')\n",
    "y_learn = y_learn.astype('int')\n",
    "clf.fit(np.mean(X_learn, axis=1), y_learn)\n",
    "\n",
    "res = clf.predict(np.mean(X_learn, axis=1)).astype('int')\n",
    "mae_val = np.mean(np.abs(y_learn - res))\n",
    "\n",
    "res = clf.predict(np.mean(X_test, axis=1)).astype('int')\n",
    "mae_test = np.mean(np.abs(y_test - res)) \n",
    "\n",
    "print('Validation MAE:', mae_val)\n",
    "print('Test MAE      :', mae_test)"
   ]
  },
  {
   "cell_type": "code",
   "execution_count": 86,
   "id": "6f87f04f-2864-46ef-9bdc-89c16801b1bd",
   "metadata": {},
   "outputs": [
    {
     "data": {
      "image/png": "[encoded data removed]",
      "text/plain": [
       "<Figure size 480x480 with 1 Axes>"
      ]
     },
     "metadata": {},
     "output_type": "display_data"
    }
   ],
   "source": [
    "res = clf.predict(np.mean(X, axis=1)).astype('int')\n",
    "image = np.zeros((len(y), len(y)))\n",
    "for i in range(len(y)):\n",
    "    for j in range(len(y)):\n",
    "        if (res[i] >= res[j]):\n",
    "            image[i, j] = 1\n",
    "        else:\n",
    "            image[i, j] = 0\n",
    "plt.matshow(image)\n",
    "\n",
    "plt.show()"
   ]
  },
  {
   "cell_type": "markdown",
   "id": "0abf9581-7378-4d25-87a9-4db5c4c276d4",
   "metadata": {},
   "source": [
    "## Oblique decision trees"
   ]
  },
  {
   "cell_type": "code",
   "execution_count": 87,
   "id": "f5be7853-b1fe-4914-9c54-c1702ef25695",
   "metadata": {},
   "outputs": [],
   "source": [
    "from scikit_obliquetree.HHCART import HouseHolderCART\n",
    "from scikit_obliquetree.segmentor import MSE, MeanSegmentor\n",
    "from sklearn.ensemble import BaggingRegressor\n",
    "from sklearn.model_selection import cross_val_score"
   ]
  },
  {
   "cell_type": "code",
   "execution_count": 88,
   "id": "c1d75e6c-b962-4aab-8d62-13325c05b71e",
   "metadata": {},
   "outputs": [
    {
     "name": "stdout",
     "output_type": "stream",
     "text": [
      "Validation MAE: 0.4714285714285714\n",
      "Test MAE      : 1.1521739130434783\n"
     ]
    }
   ],
   "source": [
    "clf = BaggingRegressor(\n",
    "   HouseHolderCART(MSE(), MeanSegmentor(), max_depth=3),\n",
    "   n_estimators=100,\n",
    "    n_jobs=-1,\n",
    ")\n",
    "y_learn = y_learn.astype('int')\n",
    "X_learn = X_learn.astype('int')\n",
    "clf.fit(X_learn, y_learn)\n",
    "\n",
    "res = clf.predict(X_learn).astype('int')\n",
    "mae_val = np.mean(np.abs(y_learn - res))\n",
    "\n",
    "res = clf.predict(X_test).astype('int')\n",
    "mae_test = np.mean(np.abs(y_test - res)) \n",
    "\n",
    "print('Validation MAE:', mae_val)\n",
    "print('Test MAE      :', mae_test)"
   ]
  },
  {
   "cell_type": "code",
   "execution_count": 89,
   "id": "22d398df-03aa-4f51-bf63-fd75e1c622dd",
   "metadata": {},
   "outputs": [
    {
     "data": {
      "image/png": "[encoded data removed]",
      "text/plain": [
       "<Figure size 480x480 with 1 Axes>"
      ]
     },
     "metadata": {},
     "output_type": "display_data"
    }
   ],
   "source": [
    "res = clf.predict(X).astype('int')\n",
    "image = np.zeros((len(y), len(y)))\n",
    "for i in range(len(y)):\n",
    "    for j in range(len(y)):\n",
    "        if (res[i] >= res[j]):\n",
    "            image[i, j] = 1\n",
    "        else:\n",
    "            image[i, j] = 0\n",
    "plt.matshow(image)\n",
    "\n",
    "plt.show()"
   ]
  },
  {
   "cell_type": "markdown",
   "id": "e56b5fcd-e0eb-4bab-b02c-c521d68db933",
   "metadata": {},
   "source": [
    "## Stochastic Partial Orders"
   ]
  },
  {
   "cell_type": "code",
   "execution_count": 121,
   "id": "f7aac838-5aff-463f-94da-11b05d9837ad",
   "metadata": {},
   "outputs": [],
   "source": [
    "def glm_fit(X, target):\n",
    "    model = sm.GLM(target, X, family=sm.families.Binomial())\n",
    "    result = model.fit(method_kwargs={'warn_convergence': False})\n",
    "    return result\n",
    "\n",
    "def learnPartialOrders(X, y):\n",
    "    labels = np.unique(y)\n",
    "    num_rows, num_cols = X.shape[0], X.shape[1]\n",
    "    partialOrderMat = np.zeros([num_rows ** 2, num_cols])\n",
    "    \n",
    "    for i in range(num_cols):\n",
    "        curVec = X[:, i]\n",
    "        firstMat = np.tile(curVec[:, np.newaxis], (1, len(curVec)))\n",
    "        secondMat = np.tile(curVec[np.newaxis, :], (len(curVec), 1))\n",
    "        current_mat = np.greater_equal(firstMat, secondMat).astype(float)\n",
    "        \n",
    "        zero_idx = np.where(curVec == 0)[0]\n",
    "        current_mat[zero_idx, :] = 0\n",
    "        current_mat[:, zero_idx] = 0\n",
    "        \n",
    "        partialOrderMat[:, i] = current_mat.flatten()\n",
    "\n",
    "    firstMat = np.tile(y[:, np.newaxis], (1, len(y)))\n",
    "    secondMat = np.tile(y[np.newaxis, :], (len(y), 1))\n",
    "    yMat = np.greater_equal(firstMat, secondMat).astype(float)\n",
    "    y_vec = np.reshape(yMat, [yMat.shape[0] ** 2, 1])\n",
    "    \n",
    "    model = sm.GLM(y_vec, partialOrderMat, family=sm.families.Binomial())\n",
    "    result = model.fit()\n",
    "    w0 = result.params\n",
    "\n",
    "    y_est = result.predict(partialOrderMat)\n",
    "    y_mat_est = np.reshape(y_est, [len(y), len(y)])\n",
    "    plt.matshow(yMat)\n",
    "\n",
    "    plt.show()\n",
    "    \n",
    "    y_mat_est_conv = np.zeros((y_mat_est.shape[0], len(labels)))\n",
    "    for class_idx in range(len(labels)):\n",
    "        y_mat_est_conv[:, class_idx] = np.sum(y_mat_est[:, y == labels[class_idx]], axis=1)\n",
    "\n",
    "    \n",
    "    par_w = np.zeros([y_mat_est_conv.shape[1], len(labels) - 1])\n",
    "    for class_idx in range(len(labels) - 1):\n",
    "        y_curr = (y > labels[class_idx]).astype(float)\n",
    "        par_w[:, class_idx] = glm_fit(y_mat_est_conv, y_curr).params\n",
    "        \n",
    "\n",
    "    y_est = testPartialOrders(X, y, X, w0, par_w)\n",
    "    return w0, par_w, y_est"
   ]
  },
  {
   "cell_type": "code",
   "execution_count": 122,
   "id": "26659744-8c58-484f-8a34-bf09f9caf220",
   "metadata": {},
   "outputs": [
    {
     "data": {
      "image/png": "[encoded data removed]",
      "text/plain": [
       "<Figure size 480x480 with 1 Axes>"
      ]
     },
     "metadata": {},
     "output_type": "display_data"
    }
   ],
   "source": [
    "w0, w, res = learnPartialOrders(X_learn, y_learn)"
   ]
  },
  {
   "cell_type": "code",
   "execution_count": 120,
   "id": "5f1f0aa2-77b8-4dab-99d2-7a27c1334e0d",
   "metadata": {},
   "outputs": [
    {
     "data": {
      "text/plain": [
       "array([2, 1, 2, 2, 1, 2, 1, 5, 2, 2, 2, 2, 2, 2, 2, 2, 5, 2, 2, 2, 1, 2,\n",
       "       2, 2, 1, 1, 2, 1, 1, 2, 2, 1, 2, 1, 2, 5, 2, 2, 1, 5, 2, 5, 5, 2,\n",
       "       1, 2, 2, 2, 2, 5, 2, 2, 5, 2, 1, 1, 1, 2, 2, 2, 2, 2, 1, 1, 1, 2,\n",
       "       2, 1, 1, 5], dtype=int64)"
      ]
     },
     "execution_count": 120,
     "metadata": {},
     "output_type": "execute_result"
    }
   ],
   "source": [
    "res"
   ]
  },
  {
   "cell_type": "code",
   "execution_count": null,
   "id": "33d3cbbf-708d-4717-ab0c-8dd0e9b8de74",
   "metadata": {},
   "outputs": [],
   "source": [
    "def testPartialOrders(X_learn, y_learn, X_test, w0, par_w):\n",
    "    labels = np.array([1, 2, 3, 4, 5])\n",
    "\n",
    "    y_fit = np.zeros((X_test.shape[0], len(labels) - 1))\n",
    "    y_est = np.ones(X_test.shape[0])\n",
    "\n",
    "    for idx_test in range(X_test.shape[0]):\n",
    "        x_test_obj = X_test[idx_test]\n",
    "        x_test_obj_mat = np.tile(x_test_obj, (X_learn.shape[0], 1))\n",
    "        \n",
    "        # Создание матрицы частичного порядка\n",
    "        partial_order_mat = (x_test_obj_mat >= X_learn).astype(float)\n",
    "        partial_order_mat[X_learn == 0] = 0\n",
    "        #partial_order_mat[x_test_obj_mat == 0] = 0\n",
    "        \n",
    "        # Прогнозирование с помощью glmval\n",
    "        y_est0 = sm.families.Binomial().link.inverse(w0.dot(partial_order_mat.T))\n",
    "        \n",
    "        y_vec_conv = np.zeros(len(labels))\n",
    "        \n",
    "        for cl_idx in range(len(labels)):\n",
    "            y_vec_conv[cl_idx] = np.sum(y_est0[y_learn == labels[cl_idx]])\n",
    "        \n",
    "        for cl_idx in range(len(labels) - 1):\n",
    "            y_fit[idx_test, cl_idx] = sm.families.Binomial().link.inverse(par_w[:, cl_idx].dot(y_vec_conv))\n",
    "    \n",
    "    # Преобразование y_fit\n",
    "    y_fit = np.column_stack((1 - y_fit[:, 0], \n",
    "                              y_fit[:, 1:] - np.roll(y_fit[:, 1:], shift=1, axis=1),\n",
    "                              y_fit[:, -1]))\n",
    "    \n",
    "    y_est = np.argmax(y_fit, axis=1)\n",
    "    return y_est + 1"
   ]
  },
  {
   "cell_type": "code",
   "execution_count": null,
   "id": "ef02eb43-cd5b-4d43-b915-d1d243bc4277",
   "metadata": {},
   "outputs": [],
   "source": []
  },
  {
   "cell_type": "code",
   "execution_count": null,
   "id": "0ece618a-793b-41e4-9670-6ad875cb45ff",
   "metadata": {},
   "outputs": [],
   "source": []
  },
  {
   "cell_type": "code",
   "execution_count": 123,
   "id": "377b2a8a-93f8-47ff-8443-5443e05b75f6",
   "metadata": {},
   "outputs": [],
   "source": [
    "def learnStochOrders(X, y):\n",
    "    X_hat = []\n",
    "    #X = X.transpose()\n",
    "    m, n = X.shape[0], X.shape[1]\n",
    "\n",
    "    for i in range(n):\n",
    "        X_i = np.array([[X[j, k] - X[i, k] for k in range(n)] for j in range(n)])\n",
    "        X_hat.append(X_i)\n",
    "        \n",
    "    y_hat = []\n",
    "    for i in range(n):\n",
    "        y_i = np.array([y[j] - y[i] for j in range(n)])\n",
    "        y_hat.append(y_i)\n",
    "    A = np.eye(n)\n",
    "    for i in range(1, n - 1):\n",
    "        for j in range(i + 1, n):\n",
    "            chisl = 0\n",
    "            znam = 0\n",
    "            for k1 in range(m):\n",
    "                for k2 in range(m):\n",
    "                    if (X[k2, i] >= X[k2, j]):\n",
    "                        znam += 1\n",
    "                        if (y[k1] >= y[k2]):\n",
    "                            chisl += 1\n",
    "            p = chisl / (m * znam)\n",
    "            A[i, j] = 2 * p - 1\n",
    "            A[j, i] = - A[i, j]\n",
    "    X_all = X_hat[0]\n",
    "    y_all = y_hat[0]\n",
    "    for i in range(1, n):\n",
    "        X_all += X_hat[i]\n",
    "        y_all += y_hat[i]\n",
    "\n",
    "    AX = np.linalg.inv((A @ X_all).transpose() @ A @ X_all + np.eye(n))\n",
    "    w = AX @ (A @ X_all).transpose() @ y_all\n",
    "    RES = np.eye(m)\n",
    "    for i in range(m):\n",
    "        for j in range(m):\n",
    "            RES[i, j] = y[j] - np.dot(A @ (X[j, :] - X[i, :]), w)\n",
    "    lamb = np.linalg.inv(RES.transpose() @ RES) @ RES.transpose() @ y\n",
    "    return A, w, lamb"
   ]
  },
  {
   "cell_type": "code",
   "execution_count": 124,
   "id": "7ae604d5-233e-423b-ac83-bcbc80415836",
   "metadata": {},
   "outputs": [],
   "source": [
    "A, w, lamb = learnStochOrders(X_learn,y_learn)"
   ]
  },
  {
   "cell_type": "code",
   "execution_count": 127,
   "id": "31645806-7db2-4d12-b693-42a56c017697",
   "metadata": {},
   "outputs": [],
   "source": [
    "def getStochOrdersRes(etalons, etalons_y, X, A, w, lamb):\n",
    "    y = np.array([])\n",
    "    m, n = X.shape[0], X.shape[1]\n",
    "    for i in range(m):\n",
    "        res = 0\n",
    "        for j in range(len(etalons)):\n",
    "            res += (etalons_y[j] - np.dot(A @ (etalons[j] - X[i, :]), w)) * lamb[j]\n",
    "        y = np.append(y, res)\n",
    "    y_mx = np.max(y)\n",
    "    y_mn = np.min(y)\n",
    "    y = (y - y_mn) / (y_mx - y_mn)\n",
    "    return y + 1"
   ]
  },
  {
   "cell_type": "code",
   "execution_count": 93,
   "id": "a0c067f9-b9e0-4db1-ac93-cd145786ec88",
   "metadata": {},
   "outputs": [
    {
     "name": "stdout",
     "output_type": "stream",
     "text": [
      "Validation MAE: 1.8142857142857143\n",
      "Test MAE      : 1.9130434782608696\n"
     ]
    }
   ],
   "source": [
    "res = getStochOrdersRes(X_learn, y_learn, X_learn, A, w, lamb)\n",
    "mae_val = np.mean(np.abs(y_learn - res))\n",
    "\n",
    "res = getStochOrdersRes(X_learn, y_learn, X_test, A, w, lamb)\n",
    "mae_test = np.mean(np.abs(y_test - res)) \n",
    "\n",
    "print('Validation MAE:', mae_val)\n",
    "print('Test MAE      :', mae_test)"
   ]
  },
  {
   "cell_type": "code",
   "execution_count": 129,
   "id": "326234d1-4862-4fbe-be35-942e7e390fd0",
   "metadata": {},
   "outputs": [
    {
     "data": {
      "image/png": "[encoded data removed]",
      "text/plain": [
       "<Figure size 480x480 with 1 Axes>"
      ]
     },
     "metadata": {},
     "output_type": "display_data"
    }
   ],
   "source": [
    "res = getStochOrdersRes(X_learn, y_learn, X, A, w, lamb)\n",
    "image = np.zeros((len(y), len(y)))\n",
    "for i in range(len(y)):\n",
    "    for j in range(len(y)):\n",
    "        if (res[i] >= res[j]):\n",
    "            image[i, j] = 1\n",
    "        else:\n",
    "            image[i, j] = res[i] / res[j]\n",
    "        #if (res[i] >= res[j]):\n",
    "        #    image[i, j] = 1\n",
    "        #else:\n",
    "        #    image[i, j] = 0\n",
    "plt.matshow(image)\n",
    "\n",
    "plt.show()"
   ]
  },
  {
   "cell_type": "code",
   "execution_count": 60,
   "id": "c88b4416-fcda-4ed9-be7f-a79aa30d6e9f",
   "metadata": {},
   "outputs": [
    {
     "name": "stdout",
     "output_type": "stream",
     "text": [
      "Validation MAE: 1.8\n",
      "Test MAE      : 1.7173913043478262\n"
     ]
    }
   ],
   "source": [
    "res = getStochOrdersRes(X_learn, y_learn, X_learn, A, w, lamb)\n",
    "mae_val = np.mean(np.abs(y_learn - res))\n",
    "\n",
    "res = getStochOrdersRes(X_learn, y_learn, X_test, A, w, lamb)\n",
    "mae_test = np.mean(np.abs(y_test - res)) \n",
    "\n",
    "print('Validation MAE:', mae_val)\n",
    "print('Test MAE      :', mae_test)"
   ]
  },
  {
   "cell_type": "code",
   "execution_count": 98,
   "id": "929a66ef-0442-4b10-99e5-85e389745b77",
   "metadata": {},
   "outputs": [],
   "source": [
    "def learnStochOrders(X, y):\n",
    "    X_hat = []\n",
    "    #X = X.transpose()\n",
    "    n,m = X.shape[0], X.shape[1]\n",
    "    print(n,m)\n",
    "\n",
    "    for i in range(n):\n",
    "        X_i = np.array([[X[j, min(m-1,k)] - X[i, min(m-1,k)] for k in range(n)] for j in range(n)])\n",
    "        X_hat.append(X_i)\n",
    "        \n",
    "    y_hat = []\n",
    "    for i in range(n):\n",
    "        y_i = np.array([y[j] - y[i] for j in range(n)])\n",
    "        y_hat.append(y_i)\n",
    "    A = np.eye(n)\n",
    "    for i in range(1, n - 1):\n",
    "        for j in range(i + 1, n):\n",
    "            chisl = 0\n",
    "            znam = 0\n",
    "            for k1 in range(m):\n",
    "                for k2 in range(m):\n",
    "                    if (X[i, k2] >= X[j, k2]):\n",
    "                        znam += 1\n",
    "                        if (y[k1] >= y[k2]):\n",
    "                            chisl += 1\n",
    "            p = chisl / (m * znam)\n",
    "            A[i, j] = 2 * p - 1\n",
    "            A[j, i] = - A[i, j]\n",
    "    X_all = X_hat[0]\n",
    "    y_all = y_hat[0]\n",
    "    for i in range(1, m):\n",
    "        X_all += X_hat[i]\n",
    "        y_all += y_hat[i]\n",
    "\n",
    "    AX = np.linalg.inv(A @ X_all + np.eye(n))\n",
    "    w = n * AX @ AX.transpose() @ (A @ X_all).transpose() @ y_all\n",
    "    return A, w"
   ]
  },
  {
   "cell_type": "code",
   "execution_count": 29,
   "id": "b17b4064-f866-454b-97df-67fd8ba395d6",
   "metadata": {},
   "outputs": [
    {
     "data": {
      "text/plain": [
       "60"
      ]
     },
     "execution_count": 29,
     "metadata": {},
     "output_type": "execute_result"
    }
   ],
   "source": [
    "len(X[0,:])"
   ]
  },
  {
   "cell_type": "code",
   "execution_count": 99,
   "id": "5eeaf974-5e36-4090-92d4-4835cc0e9a7e",
   "metadata": {},
   "outputs": [
    {
     "name": "stdout",
     "output_type": "stream",
     "text": [
      "70 60\n"
     ]
    }
   ],
   "source": [
    "A, w = learnStochOrders(X_learn,y_learn)"
   ]
  },
  {
   "cell_type": "code",
   "execution_count": 102,
   "id": "474d5710-5629-4e3a-a08b-7dbe3cdaed5c",
   "metadata": {},
   "outputs": [
    {
     "name": "stdout",
     "output_type": "stream",
     "text": [
      "(70, 70) (70,)\n"
     ]
    }
   ],
   "source": [
    "print(A.shape,w.shape)"
   ]
  },
  {
   "cell_type": "code",
   "execution_count": 60,
   "id": "c4dbd8b6-9506-4d0d-ae9b-dea2f6742807",
   "metadata": {},
   "outputs": [
    {
     "data": {
      "text/plain": [
       "(70, 60)"
      ]
     },
     "execution_count": 60,
     "metadata": {},
     "output_type": "execute_result"
    }
   ],
   "source": [
    "X_learn.shape"
   ]
  },
  {
   "cell_type": "code",
   "execution_count": 61,
   "id": "a4002f98-1ba6-4e11-b6a1-94033f6f8305",
   "metadata": {},
   "outputs": [
    {
     "data": {
      "text/plain": [
       "(70,)"
      ]
     },
     "execution_count": 61,
     "metadata": {},
     "output_type": "execute_result"
    }
   ],
   "source": [
    "y_learn.shape"
   ]
  },
  {
   "cell_type": "code",
   "execution_count": 100,
   "id": "4f5bd3e0-268e-43af-be31-fd52d6a985b8",
   "metadata": {},
   "outputs": [],
   "source": [
    "def getStochOrdersRes(X, A, w):\n",
    "    y = np.array([])\n",
    "    n, m = X.shape[0], X.shape[1]\n",
    "    for i in range(m):\n",
    "        y = np.append(y, np.dot(A @ X[:,i], w))\n",
    "    y_mx = np.max(y)\n",
    "    y_mn = np.min(y)\n",
    "    y = (y - y_mn) * 5 // (y_mx - y_mn)\n",
    "    return y + 1"
   ]
  },
  {
   "cell_type": "code",
   "execution_count": 95,
   "id": "9f49d4d1-b030-4bee-9818-e1faa19a2b93",
   "metadata": {},
   "outputs": [
    {
     "data": {
      "text/plain": [
       "70"
      ]
     },
     "execution_count": 95,
     "metadata": {},
     "output_type": "execute_result"
    }
   ],
   "source": [
    "len(w)"
   ]
  },
  {
   "cell_type": "code",
   "execution_count": 111,
   "id": "2b83bddf-5e23-4a3b-b11f-38d82b31c66c",
   "metadata": {},
   "outputs": [
    {
     "data": {
      "text/plain": [
       "60"
      ]
     },
     "execution_count": 111,
     "metadata": {},
     "output_type": "execute_result"
    }
   ],
   "source": [
    "res = getStochOrdersRes(X[len(X)-70:], A, w)\n",
    "len(res)"
   ]
  },
  {
   "cell_type": "code",
   "execution_count": 101,
   "id": "f053e0e1-361b-4e24-b6e2-80de8e8390d4",
   "metadata": {},
   "outputs": [
    {
     "name": "stdout",
     "output_type": "stream",
     "text": [
      "Validation MAE: 1.4833333333333334\n",
      "Test MAE      : 1.326086956521739\n"
     ]
    }
   ],
   "source": [
    "res = getStochOrdersRes(X_learn, A, w)\n",
    "mae_val = np.mean(np.abs(y_learn[:60] - res))\n",
    "\n",
    "res = getStochOrdersRes(X[len(X)-70:], A, w)\n",
    "mae_test = np.mean(np.abs(y_test - res[14:])) \n",
    "\n",
    "print('Validation MAE:', mae_val)\n",
    "print('Test MAE      :', mae_test)"
   ]
  },
  {
   "cell_type": "code",
   "execution_count": 107,
   "id": "6a158713-c8ac-4e2f-8986-4b4455a3cb38",
   "metadata": {},
   "outputs": [
    {
     "ename": "ValueError",
     "evalue": "matmul: Input operand 1 has a mismatch in its core dimension 0, with gufunc signature (n?,k),(k,m?)->(n?,m?) (size 69 is different from 70)",
     "output_type": "error",
     "traceback": [
      "\u001b[1;31m---------------------------------------------------------------------------\u001b[0m",
      "\u001b[1;31mValueError\u001b[0m                                Traceback (most recent call last)",
      "Cell \u001b[1;32mIn[107], line 1\u001b[0m\n\u001b[1;32m----> 1\u001b[0m res \u001b[38;5;241m=\u001b[39m getStochOrdersRes(X[:\u001b[38;5;241m69\u001b[39m], A, w)\n\u001b[0;32m      2\u001b[0m image \u001b[38;5;241m=\u001b[39m np\u001b[38;5;241m.\u001b[39mzeros((\u001b[38;5;28mlen\u001b[39m(y), \u001b[38;5;28mlen\u001b[39m(y)))\n\u001b[0;32m      3\u001b[0m \u001b[38;5;28;01mfor\u001b[39;00m i \u001b[38;5;129;01min\u001b[39;00m \u001b[38;5;28mrange\u001b[39m(\u001b[38;5;28mlen\u001b[39m(y)):\n",
      "Cell \u001b[1;32mIn[100], line 5\u001b[0m, in \u001b[0;36mgetStochOrdersRes\u001b[1;34m(X, A, w)\u001b[0m\n\u001b[0;32m      3\u001b[0m n, m \u001b[38;5;241m=\u001b[39m X\u001b[38;5;241m.\u001b[39mshape[\u001b[38;5;241m0\u001b[39m], X\u001b[38;5;241m.\u001b[39mshape[\u001b[38;5;241m1\u001b[39m]\n\u001b[0;32m      4\u001b[0m \u001b[38;5;28;01mfor\u001b[39;00m i \u001b[38;5;129;01min\u001b[39;00m \u001b[38;5;28mrange\u001b[39m(m):\n\u001b[1;32m----> 5\u001b[0m     y \u001b[38;5;241m=\u001b[39m np\u001b[38;5;241m.\u001b[39mappend(y, np\u001b[38;5;241m.\u001b[39mdot(A \u001b[38;5;241m@\u001b[39m X[:,i], w))\n\u001b[0;32m      6\u001b[0m y_mx \u001b[38;5;241m=\u001b[39m np\u001b[38;5;241m.\u001b[39mmax(y)\n\u001b[0;32m      7\u001b[0m y_mn \u001b[38;5;241m=\u001b[39m np\u001b[38;5;241m.\u001b[39mmin(y)\n",
      "\u001b[1;31mValueError\u001b[0m: matmul: Input operand 1 has a mismatch in its core dimension 0, with gufunc signature (n?,k),(k,m?)->(n?,m?) (size 69 is different from 70)"
     ]
    }
   ],
   "source": [
    "res = getStochOrdersRes(X[:69], A, w)\n",
    "image = np.zeros((len(y), len(y)))\n",
    "for i in range(len(y)):\n",
    "    for j in range(len(y)):\n",
    "        if (res[i] >= res[j]):\n",
    "            image[i, j] = 1\n",
    "        else:\n",
    "            image[i, j] = 0\n",
    "plt.matshow(image)\n",
    "\n",
    "plt.show()"
   ]
  },
  {
   "cell_type": "code",
   "execution_count": null,
   "id": "d0967c46-ff21-4f4e-8008-ba00a07e54ed",
   "metadata": {},
   "outputs": [],
   "source": []
  }
 ],
 "metadata": {
  "kernelspec": {
   "display_name": "Python 3 (ipykernel)",
   "language": "python",
   "name": "python3"
  },
  "language_info": {
   "codemirror_mode": {
    "name": "ipython",
    "version": 3
   },
   "file_extension": ".py",
   "mimetype": "text/x-python",
   "name": "python",
   "nbconvert_exporter": "python",
   "pygments_lexer": "ipython3",
   "version": "3.11.7"
  }
 },
 "nbformat": 4,
 "nbformat_minor": 5
}
